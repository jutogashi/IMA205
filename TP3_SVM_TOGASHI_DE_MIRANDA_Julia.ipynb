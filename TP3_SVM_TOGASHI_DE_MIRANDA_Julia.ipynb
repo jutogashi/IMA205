{
 "cells": [
  {
   "cell_type": "markdown",
   "metadata": {
    "id": "vDA_obreM3PN"
   },
   "source": [
    "# Skin lesion classification"
   ]
  },
  {
   "cell_type": "markdown",
   "metadata": {
    "id": "cJ55RYNTM3PP"
   },
   "source": [
    "**Deadline**: Upload this notebook (rename it as 'TP-SVM-YOUR-SURNAME.ipynb') to Ecampus before the deadline.\n"
   ]
  },
  {
   "cell_type": "markdown",
   "metadata": {
    "id": "tBl0eH4rgj3W"
   },
   "source": [
    "**Context**\n",
    "A skin lesion is defined as a superficial growth or patch of the skin that is visually different and/or has a different texture than its surrounding area. Skin lesions, such as moles or birthmarks, can degenerate and become melanoma, one of the deadliest skin cancer. Its incidence has been increasing during the last decades, especially in the areas mostly populated by white people.\n",
    "\n",
    "The most effective treatment is an early detection followed by surgical excision. This is why several approaches for melanoma detection have been proposed in the last years (non-invasive computer-aided diagnosis (CAD) ).\n",
    "\n",
    "\n",
    "**Goal**\n",
    "The goal of this practical session is to classify images of skin lesions as either benign or melanoma using machine learning algorithms. In order to do that, you will have at your disposal a set of 30 features already extracted from 600 dermoscopic images (both normal skin lesions and melanoma from the ISIC database - https://isic-archive.com/). These features characterize the Asymmetry, the Border irregularity, the Colour and the Dimension of the lesion (the so-called ABCD rule). \n",
    "\n",
    "The features are:\n",
    "- shape asimmetry (f0 and f1)\n",
    "- difference in colors between center and periphery of the image (f2, f3, f4, f27, f28, f29)\n",
    "- geometry (f5, f6, f7)\n",
    "- other features related to eccentricity,entropy, mean, standard deviation and maximum value of each channel in RGB and HSV (f8,...,f24)\n",
    "- asimmetry of color intensity (f25, f26)\n",
    "\n",
    "Features are computed using *manually checked segmentations* and following *Ganster et al. 'Automated melanoma recognition', IEEE TMI, 2001* and *Zortea et al. 'Performance of a dermoscopy-based computer vision system for the diagnosis of pigmented skin lesions compared with visual evaluation by experienced dermatologists', Artificial Intelligence in Medicine, 2014*."
   ]
  },
  {
   "cell_type": "markdown",
   "metadata": {
    "id": "gP6UCcieM3PT"
   },
   "source": [
    "First load all necessary packages"
   ]
  },
  {
   "cell_type": "code",
   "execution_count": 1,
   "metadata": {
    "id": "ggIRZ9_UM3PU"
   },
   "outputs": [],
   "source": [
    "import os\n",
    "import numpy as np\n",
    "import pandas as pd\n",
    "from skimage.io import imread\n",
    "from time import time\n",
    "import matplotlib.pyplot as plt\n",
    "from mpl_toolkits.axes_grid1 import AxesGrid\n",
    "from sklearn.preprocessing import StandardScaler\n",
    "from sklearn.metrics import classification_report\n",
    "from sklearn.metrics import confusion_matrix\n",
    "from sklearn.discriminant_analysis import LinearDiscriminantAnalysis\n",
    "from sklearn.model_selection import train_test_split\n",
    "from sklearn.model_selection import  cross_val_score\n",
    "from sklearn.discriminant_analysis import QuadraticDiscriminantAnalysis\n",
    "from sklearn.neighbors import KNeighborsClassifier\n",
    "from sklearn.svm import SVC, LinearSVC\n",
    "from sklearn.model_selection import GridSearchCV, KFold, cross_validate\n",
    "from sklearn.linear_model import Perceptron\n",
    "from sklearn.decomposition import PCA\n",
    "\n",
    "%matplotlib inline\n",
    "\n",
    "import warnings\n",
    "warnings.filterwarnings(\"ignore\", category=DeprecationWarning)\n",
    "warnings.simplefilter(action='ignore', category=FutureWarning)\n",
    "\n",
    "from sklearn.exceptions import ConvergenceWarning\n",
    "warnings.filterwarnings(action='ignore', category=ConvergenceWarning)\n",
    "\n",
    "# Code from scikit-learn\n",
    "import itertools\n",
    "def plot_confusion_matrix(cm, classes,\n",
    "                          normalize=False,\n",
    "                          title='Confusion matrix',\n",
    "                          cmap=plt.cm.Blues):\n",
    "    \"\"\"\n",
    "    This function prints and plots the confusion matrix.\n",
    "    Normalization can be applied by setting `normalize=True`.\n",
    "    \"\"\"\n",
    "    if normalize:\n",
    "        cm = cm.astype('float') / cm.sum(axis=1)[:, np.newaxis]\n",
    "        print(\"Normalized confusion matrix\")\n",
    "    else:\n",
    "        print('Confusion matrix, without normalization')\n",
    "\n",
    "    print(cm)\n",
    "\n",
    "    plt.imshow(cm, interpolation='nearest', cmap=cmap)\n",
    "    plt.title(title)\n",
    "    plt.colorbar()\n",
    "    tick_marks = np.arange(len(classes))\n",
    "    plt.xticks(tick_marks, classes, rotation=45)\n",
    "    plt.yticks(tick_marks, classes)\n",
    "\n",
    "    fmt = '.2f' if normalize else 'd'\n",
    "    thresh = cm.max() / 2.\n",
    "    for i, j in itertools.product(range(cm.shape[0]), range(cm.shape[1])):\n",
    "        plt.text(j, i, format(cm[i, j], fmt),\n",
    "                 horizontalalignment=\"center\",\n",
    "                 color=\"black\" if cm[i, j] > thresh else \"black\")\n",
    "\n",
    "    plt.ylabel('True label')\n",
    "    plt.xlabel('Predicted label')\n",
    "    plt.tight_layout()\n"
   ]
  },
  {
   "cell_type": "markdown",
   "metadata": {
    "id": "vFjZc3lXvxLD"
   },
   "source": [
    "Then load the data from my Google Drive"
   ]
  },
  {
   "cell_type": "code",
   "execution_count": 2,
   "metadata": {
    "colab": {
     "base_uri": "https://localhost:8080/"
    },
    "id": "QcXyy29Qvzcb",
    "outputId": "ad8855ee-0f90-4752-eefd-6de6306c27a8"
   },
   "outputs": [
    {
     "ename": "ModuleNotFoundError",
     "evalue": "No module named 'google_drive_downloader'",
     "output_type": "error",
     "traceback": [
      "\u001b[1;31m---------------------------------------------------------------------------\u001b[0m",
      "\u001b[1;31mModuleNotFoundError\u001b[0m                       Traceback (most recent call last)",
      "\u001b[1;32m<ipython-input-2-9c274ca038ff>\u001b[0m in \u001b[0;36m<module>\u001b[1;34m\u001b[0m\n\u001b[1;32m----> 1\u001b[1;33m \u001b[1;32mfrom\u001b[0m \u001b[0mgoogle_drive_downloader\u001b[0m \u001b[1;32mimport\u001b[0m \u001b[0mGoogleDriveDownloader\u001b[0m \u001b[1;32mas\u001b[0m \u001b[0mgdd\u001b[0m\u001b[1;33m\u001b[0m\u001b[1;33m\u001b[0m\u001b[0m\n\u001b[0m\u001b[0;32m      2\u001b[0m gdd.download_file_from_google_drive(file_id='18hrQVGBCfW7SKTnzmWUONo8iowBsi1DL',\n\u001b[0;32m      3\u001b[0m dest_path='./data/features.csv')\n\u001b[0;32m      4\u001b[0m gdd.download_file_from_google_drive(file_id='1iQZdUiuK_FwZ7mik7LB3eN_H_IUc5l7b',\n\u001b[0;32m      5\u001b[0m dest_path='./data/im/nevus-seg.jpg')\n",
      "\u001b[1;31mModuleNotFoundError\u001b[0m: No module named 'google_drive_downloader'"
     ]
    }
   ],
   "source": [
    "from google_drive_downloader import GoogleDriveDownloader as gdd\n",
    "gdd.download_file_from_google_drive(file_id='18hrQVGBCfW7SKTnzmWUONo8iowBsi1DL',\n",
    "dest_path='./data/features.csv')\n",
    "gdd.download_file_from_google_drive(file_id='1iQZdUiuK_FwZ7mik7LB3eN_H_IUc5l7b',\n",
    "dest_path='./data/im/nevus-seg.jpg')\n",
    "gdd.download_file_from_google_drive(file_id='1_TeYzLLDoKbPX4xXAOAM_mQiT2nLHgvp',\n",
    "dest_path='./data/im/nevus.jpg')\n",
    "gdd.download_file_from_google_drive(file_id='1B2Ol92mBcHN6ah3bpoucBbBbHkPMGC8D',\n",
    "dest_path='./data/im/melanoma-seg.jpg')\n",
    "gdd.download_file_from_google_drive(file_id='1yZ46UzGhwO7g5T8397JpewBl6UqgRo5J',\n",
    "dest_path='./data/im/melanoma.jpg')"
   ]
  },
  {
   "cell_type": "markdown",
   "metadata": {
    "id": "1jkc3oIG3skR"
   },
   "source": [
    "Or from yout local computer. Please download the 'data' folder in the same folder as your notebook and do not modifiy it."
   ]
  },
  {
   "cell_type": "markdown",
   "metadata": {
    "collapsed": true,
    "id": "8F5-rVsTM3PY"
   },
   "source": [
    "Then read the data "
   ]
  },
  {
   "cell_type": "code",
   "execution_count": null,
   "metadata": {
    "colab": {
     "base_uri": "https://localhost:8080/"
    },
    "id": "KszrmyDJM3PZ",
    "outputId": "17794f45-ad43-41e3-f1eb-16ed257490f7"
   },
   "outputs": [],
   "source": [
    "## Read data\n",
    "Working_directory=\"./data/\" \n",
    "df = pd.read_csv(Working_directory + 'features.csv') # reading data\n",
    "y = df['Malignant'].values # 1 for Melanoma and 0 for healthy\n",
    "class_names = [\"healthy\",\"melanoma\"]\n",
    "X = df.iloc[:,3:33].values # Features\n",
    "N,M=X.shape\n",
    "print('Number of images: {0}; Number of features per image: {1}'.format(N,M))\n",
    "print('Number of healthy nevus: {0}; Number of melanoma: {1}'.format(N-np.sum(y), np.sum(y)))\n"
   ]
  },
  {
   "cell_type": "code",
   "execution_count": null,
   "metadata": {
    "colab": {
     "base_uri": "https://localhost:8080/",
     "height": 411
    },
    "id": "Si5Z175vM3Pb",
    "outputId": "d6ddc80f-e180-456e-eea7-ab2d9c62f204"
   },
   "outputs": [],
   "source": [
    "## Plot two examples of nevus and melanoma\n",
    "print('Two examples of healthy nevus and melanoma')\n",
    "nevus = imread(Working_directory + 'im/nevus.jpg')\n",
    "nevus_Segmentation = imread(Working_directory + 'im/nevus-seg.jpg') \n",
    "nevus_Segmentation_boolean = (nevus_Segmentation/255).astype(np.uint8) # To get uint8 (integer numbers)\n",
    "nevus_Segmentation_3D = np.expand_dims(nevus_Segmentation_boolean, axis=2) # To have a binary mask for the three channels (RGB)\n",
    "nevus_mul_mask = (nevus_Segmentation_3D*nevus) # we apply the binary mask to all channels pixel-wise\n",
    "\n",
    "fig = plt.figure(figsize=(12, 12)) # size of the figure\n",
    "grid = AxesGrid(fig, 111,\n",
    "                nrows_ncols = (1, 3),\n",
    "                axes_pad = 0.5) # code to create subplots\n",
    "grid[0].imshow(nevus)\n",
    "grid[0].axis('off')\n",
    "grid[0].set_title('Original image - nevus')\n",
    "grid[1].imshow(nevus_Segmentation)\n",
    "grid[1].axis('off')\n",
    "grid[1].set_title(\"Segmentation mask - nevus\")\n",
    "grid[2].imshow(nevus_mul_mask)\n",
    "grid[2].axis('off')\n",
    "grid[2].set_title(\"Segmented nevus\")\n",
    "\n",
    "###\n",
    "\n",
    "melanoma = imread(Working_directory + 'im/melanoma.jpg')\n",
    "melanoma_Segmentation = imread(Working_directory + 'im/melanoma-seg.jpg') \n",
    "melanoma_Segmentation_boolean = (melanoma_Segmentation/255).astype(np.uint8) # To get uint8 (integer numbers)\n",
    "melanoma_Segmentation_3D = np.expand_dims(melanoma_Segmentation_boolean, axis=2) # To have a binary mask for the three channels (RGB)\n",
    "melanoma_mul_mask = (melanoma_Segmentation_3D*melanoma) # we apply the binary mask to all channels pixel-wise\n",
    "\n",
    "fig = plt.figure(figsize=(12, 12)) # size of the figure\n",
    "grid = AxesGrid(fig, 111,\n",
    "                nrows_ncols = (1, 3),\n",
    "                axes_pad = 0.5) # code to create subplots\n",
    "grid[0].imshow(melanoma)\n",
    "grid[0].axis('off')\n",
    "grid[0].set_title('Original image - melanoma')\n",
    "grid[1].imshow(melanoma_Segmentation)\n",
    "grid[1].axis('off')\n",
    "grid[1].set_title(\"Segmentation mask - melanoma\")\n",
    "grid[2].imshow(melanoma_mul_mask)\n",
    "grid[2].axis('off')\n",
    "grid[2].set_title(\"Segmented melanoma\")\n"
   ]
  },
  {
   "cell_type": "markdown",
   "metadata": {
    "id": "S4-tYOYOM3Pe"
   },
   "source": [
    "Now, as in the previous practical session you should shuffle the data randomly"
   ]
  },
  {
   "cell_type": "code",
   "execution_count": 3,
   "metadata": {},
   "outputs": [
    {
     "ename": "NameError",
     "evalue": "name 'X' is not defined",
     "output_type": "error",
     "traceback": [
      "\u001b[1;31m---------------------------------------------------------------------------\u001b[0m",
      "\u001b[1;31mNameError\u001b[0m                                 Traceback (most recent call last)",
      "\u001b[1;32m<ipython-input-3-94cb9ce28558>\u001b[0m in \u001b[0;36m<module>\u001b[1;34m\u001b[0m\n\u001b[1;32m----> 1\u001b[1;33m \u001b[0mprint\u001b[0m\u001b[1;33m(\u001b[0m\u001b[0mX\u001b[0m\u001b[1;33m.\u001b[0m\u001b[0mshape\u001b[0m\u001b[1;33m)\u001b[0m\u001b[1;33m\u001b[0m\u001b[1;33m\u001b[0m\u001b[0m\n\u001b[0m",
      "\u001b[1;31mNameError\u001b[0m: name 'X' is not defined"
     ]
    }
   ],
   "source": [
    "print(X.shape)"
   ]
  },
  {
   "cell_type": "code",
   "execution_count": 91,
   "metadata": {
    "id": "kXTXPsIIM3Pf"
   },
   "outputs": [],
   "source": [
    "# Shuffle data randomly\n",
    "\n",
    "#We get the random order, as we will have to reorder multiple matrixes in a same way.\n",
    "order=np.arange(0,N)\n",
    "np.random.shuffle(order)\n",
    "\n",
    "Xp=X[order[:]]\n",
    "yp=y[order[:]]"
   ]
  },
  {
   "cell_type": "markdown",
   "metadata": {
    "collapsed": true,
    "id": "G0mkfbuhM3Pm"
   },
   "source": [
    "We should now test the discriminative power of our features. Fist, let divide the entire data-set into training and test set using the `stratify` option. This will preserve the original proportion between nevus and melanoma also in the training and test set. You can check that from the plot."
   ]
  },
  {
   "cell_type": "code",
   "execution_count": 92,
   "metadata": {
    "colab": {
     "base_uri": "https://localhost:8080/",
     "height": 325
    },
    "id": "f-BB5oMcM3Pn",
    "outputId": "9385d4de-45a7-484a-911b-750cf8cc2100"
   },
   "outputs": [
    {
     "data": {
      "text/plain": [
       "Text(0, 0.5, 'Proportion')"
      ]
     },
     "execution_count": 92,
     "metadata": {
      "tags": []
     },
     "output_type": "execute_result"
    },
    {
     "data": {
      "image/png": "[encoded data removed]",
      "text/plain": [
       "<Figure size 432x288 with 3 Axes>"
      ]
     },
     "metadata": {
      "needs_background": "light",
      "tags": []
     },
     "output_type": "display_data"
    }
   ],
   "source": [
    "# Create training and test set\n",
    "X_train, X_test, y_train, y_test = train_test_split(Xp, yp, test_size=0.3, random_state=42,stratify=yp)\n",
    "\n",
    "fig, axs = plt.subplots(1, 3, sharey=True)\n",
    "fig.suptitle('Proportion of samples from each class')\n",
    "axs[0].hist(yp,weights=np.ones_like(yp)/len(yp))\n",
    "axs[0].set_xlabel('Original data-set')\n",
    "axs[1].hist(y_train,weights=np.ones_like(y_train)/len(y_train))\n",
    "axs[1].set_xlabel('Training set')\n",
    "axs[2].hist(y_test,weights=np.ones_like(y_test)/len(y_test))\n",
    "axs[2].set_xlabel('Test set')\n",
    "axs[0].set_ylabel('Proportion')"
   ]
  },
  {
   "cell_type": "markdown",
   "metadata": {
    "id": "H4SDUC4FM3Ph"
   },
   "source": [
    "As we have already seen, it might be very important to scale the data such that each feature has, for instance, average equal to 0 and unit variance. Which is the right way of doing it when having a training and a test set in your opinion ? Should you use together both training and test set ?"
   ]
  },
  {
   "cell_type": "markdown",
   "metadata": {
    "id": "jYqAAqqIGVHV"
   },
   "source": [
    "**Answer:**\n",
    "\n",
    "We should first separate the datasets (as we have already done it) and then normalize them individually. That is because if we take the mean and variance of the original data set (train + test) we'll be adding the information for the test to the training set, thus it influencing our results. Therefore, the ideal is to normalize the training set according to the training mean and variance, and also normalize the test according to the training mean and variance."
   ]
  },
  {
   "cell_type": "code",
   "execution_count": 93,
   "metadata": {
    "id": "_uiSSi71M3Pj"
   },
   "outputs": [],
   "source": [
    "# Scale data (each feature will have average equal to 0 and unit variance)\n",
    "scaler = StandardScaler()\n",
    "X_train = scaler.fit_transform(X_train)\n",
    "X_test = scaler.transform(X_test)"
   ]
  },
  {
   "cell_type": "markdown",
   "metadata": {
    "id": "ZOOclOCbznSN"
   },
   "source": [
    "Now, use two simple classification algorithms, for instance LDA and QDA, and look at the confusion matrices. \n",
    "\n",
    "**Question**: Comment the results. "
   ]
  },
  {
   "cell_type": "markdown",
   "metadata": {
    "id": "ZkXeCq1EK1D-"
   },
   "source": [
    "**Answer:**\n",
    "\n",
    "As we can see in the confusions matrixes bellow, both succeed in predicting the healthy cases, the LDA having a little bit better results. In contrast QDA better succeeds in predicting melanoma, but the results are still poor. This is logical, as we have many more health cases than melanoma ones.\n",
    "\n",
    "In practice, our interest is to correctly predict the melanoma. It is better to have the healthy predicted as melanoma error, than the opposite. That is because a doctor would probably conclude that that is not a chirurgical case, but not giving medical attention to a patient that needs it can potentially cost its life. So we can conclude that both  LDA and QDA performs poorly in that aspect.\n"
   ]
  },
  {
   "cell_type": "code",
   "execution_count": 94,
   "metadata": {
    "colab": {
     "base_uri": "https://localhost:8080/",
     "height": 1000
    },
    "id": "5_ihqCi1M3Pq",
    "outputId": "7546a7f7-a802-4362-f296-a61224403831"
   },
   "outputs": [
    {
     "name": "stdout",
     "output_type": "stream",
     "text": [
      "Fitting LDA to training set\n",
      "              precision    recall  f1-score   support\n",
      "\n",
      "           0       0.84      0.95      0.89       146\n",
      "           1       0.47      0.21      0.29        34\n",
      "\n",
      "    accuracy                           0.81       180\n",
      "   macro avg       0.65      0.58      0.59       180\n",
      "weighted avg       0.77      0.81      0.77       180\n",
      "\n",
      "Normalized confusion matrix\n",
      "[[0.94520548 0.05479452]\n",
      " [0.79411765 0.20588235]]\n"
     ]
    },
    {
     "data": {
      "image/png": "[encoded data removed]",
      "text/plain": [
       "<Figure size 432x288 with 2 Axes>"
      ]
     },
     "metadata": {
      "needs_background": "light",
      "tags": []
     },
     "output_type": "display_data"
    },
    {
     "name": "stdout",
     "output_type": "stream",
     "text": [
      "Fitting QDA to training set\n",
      "              precision    recall  f1-score   support\n",
      "\n",
      "           0       0.84      0.94      0.89       146\n",
      "           1       0.47      0.24      0.31        34\n",
      "\n",
      "    accuracy                           0.81       180\n",
      "   macro avg       0.66      0.59      0.60       180\n",
      "weighted avg       0.77      0.81      0.78       180\n",
      "\n",
      "Normalized confusion matrix\n",
      "[[0.93835616 0.06164384]\n",
      " [0.76470588 0.23529412]]\n"
     ]
    },
    {
     "data": {
      "image/png": "[encoded data removed]",
      "text/plain": [
       "<Figure size 432x288 with 2 Axes>"
      ]
     },
     "metadata": {
      "needs_background": "light",
      "tags": []
     },
     "output_type": "display_data"
    }
   ],
   "source": [
    "# Fitting LDA\n",
    "print(\"Fitting LDA to training set\")\n",
    "lda = LinearDiscriminantAnalysis()\n",
    "lda.fit(X_train, y_train)\n",
    "y_pred = lda.predict(X_test)\n",
    "print(classification_report(y_test, y_pred))\n",
    "\n",
    "# Compute confusion matrix\n",
    "cnf_matrix = confusion_matrix(y_test, y_pred)\n",
    "\n",
    "# Plot normalized confusion matrix\n",
    "plt.figure()\n",
    "plot_confusion_matrix(cnf_matrix, classes=class_names, normalize=True,\n",
    "                      title='LDA Normalized confusion matrix')\n",
    "plt.show()\n",
    "\n",
    "# Fitting QDA\n",
    "\n",
    "print(\"Fitting QDA to training set\")\n",
    "\n",
    "qda = QuadraticDiscriminantAnalysis()\n",
    "qda.fit(X_train, y_train)\n",
    "y_pred = qda.predict(X_test)\n",
    "print(classification_report(y_test, y_pred))\n",
    "\n",
    "# Compute confusion matrix\n",
    "cnf_matrix = confusion_matrix(y_test, y_pred)\n",
    "\n",
    "# Plot normalized confusion matrix\n",
    "plt.figure()\n",
    "plot_confusion_matrix(cnf_matrix, classes=class_names, normalize=True,\n",
    "                      title='QDA Normalized confusion matrix')\n",
    "plt.show()"
   ]
  },
  {
   "cell_type": "markdown",
   "metadata": {
    "id": "ecf4abLnM3Ps"
   },
   "source": [
    "The results you obtained are based on a precise subdivision of your data into training and test. This can thus bias your results. Which technique could you use instead ? Test it  with LDA, QDA and K-NN."
   ]
  },
  {
   "cell_type": "markdown",
   "metadata": {
    "id": "nH8uGAcUNpcX"
   },
   "source": [
    "**Answer:**\n",
    "\n",
    "The cross-validation technique can be used."
   ]
  },
  {
   "cell_type": "code",
   "execution_count": 95,
   "metadata": {
    "colab": {
     "base_uri": "https://localhost:8080/"
    },
    "id": "GDOcm4HWM3Pt",
    "outputId": "fa8cea30-d3ef-4fdf-a8e7-f945697ceaa5"
   },
   "outputs": [
    {
     "name": "stdout",
     "output_type": "stream",
     "text": [
      "Fitting LDA\n",
      " Average and std CV score : 0.8 +- 0.020481726826291978\n",
      "Fitting QDA\n",
      " Average and std CV score : 0.7952380952380953 +- 0.013883218797250714\n",
      "Fitting K-nearest neighbour\n",
      " Average and std CV score : 0.8119047619047619 +- 0.031406918948268865\n"
     ]
    }
   ],
   "source": [
    "# Fitting LDA\n",
    "print(\"Fitting LDA\")\n",
    "lda = LinearDiscriminantAnalysis()\n",
    "lda_score = cross_val_score(lda,X=X_train,y= y_train,cv=5)\n",
    "print(\" Average and std CV score : {0} +- {1}\".format(lda_score.mean(), lda_score.std() ))\n",
    "\n",
    "# Fitting QDA\n",
    "print(\"Fitting QDA\")\n",
    "qda = QuadraticDiscriminantAnalysis()\n",
    "qda_score = cross_val_score(qda,X=X_train, y=y_train,cv=5)\n",
    "print(\" Average and std CV score : {0} +- {1}\".format(qda_score.mean(), qda_score.std() ))\n",
    "\n",
    "# Fitting K-nearest neighbour\n",
    "print(\"Fitting K-nearest neighbour\")\n",
    "neigh = KNeighborsClassifier(n_neighbors=3)\n",
    "neigh_score = cross_val_score(neigh,X=X_train, y=y_train,cv=5)\n",
    "print(\" Average and std CV score : {0} +- {1}\".format(neigh_score.mean(), neigh_score.std() ))"
   ]
  },
  {
   "cell_type": "markdown",
   "metadata": {
    "id": "1l_wfAsrM3Pw"
   },
   "source": [
    "When using K-NN, instead than fixing the number of nearest neighbours, we could also estimate the best value using Cross Validation. Do it and plot the confusion matrix. Do you notice anything strange ? Why in your opinion do you have this kind of result ?"
   ]
  },
  {
   "cell_type": "markdown",
   "metadata": {
    "id": "D44x8D96Oihs"
   },
   "source": [
    "**Answer:**\n",
    "\n",
    "The best number of nearest neighbors gives us an even poorest result for melanoma prediction than de LDA and QDA, which as we already mentioned, is our true interest. \n",
    "\n",
    "That is again probably due to having an unbalanced dataset, with many more healthy examples that melanoma ones."
   ]
  },
  {
   "cell_type": "code",
   "execution_count": 96,
   "metadata": {
    "colab": {
     "base_uri": "https://localhost:8080/",
     "height": 384
    },
    "id": "ojO6jkeZ9l3Q",
    "outputId": "6c4d5324-8584-481e-cbfd-5f6b1e9db9a9"
   },
   "outputs": [
    {
     "name": "stdout",
     "output_type": "stream",
     "text": [
      "Best training Score: 0.8309523809523809\n",
      "Best training params: {'n_neighbors': 6}\n",
      "Normalized confusion matrix\n",
      "[[0.97260274 0.02739726]\n",
      " [0.85294118 0.14705882]]\n"
     ]
    },
    {
     "data": {
      "image/png": "[encoded data removed]",
      "text/plain": [
       "<Figure size 432x288 with 2 Axes>"
      ]
     },
     "metadata": {
      "needs_background": "light",
      "tags": []
     },
     "output_type": "display_data"
    }
   ],
   "source": [
    "# Looking for the best hyperparameters\n",
    "p_grid_KNN = {'n_neighbors': [1,2,3,4,5,6,7,8,9,10]}\n",
    "KNN = KNeighborsClassifier()\n",
    "grid_KNN = GridSearchCV(estimator=KNN, param_grid=p_grid_KNN, scoring=\"accuracy\", cv=5)\n",
    "grid_KNN.fit(X_train, y_train)\n",
    "print(\"Best training Score: {}\".format(grid_KNN.best_score_))\n",
    "print(\"Best training params: {}\".format(grid_KNN.best_params_))\n",
    "y_pred = grid_KNN.predict(X_test)\n",
    "# Compute confusion matrix\n",
    "cnf_matrix = confusion_matrix(y_test, y_pred)\n",
    "\n",
    "# Plot normalized confusion matrix\n",
    "plt.figure()\n",
    "plot_confusion_matrix(cnf_matrix, classes=class_names, normalize=True,\n",
    "                      title='Normalized confusion matrix')\n",
    "plt.show()"
   ]
  },
  {
   "cell_type": "markdown",
   "metadata": {
    "id": "WB6QeHmj-PkN"
   },
   "source": [
    "In order to deal with this problem we have two possible solutions. \n",
    "\n",
    "**First**: Please look at this webpage (https://scikit-learn.org/stable/modules/model_evaluation.html#scoring-parameter) and try MORE APPROPRIATE scoring functions than accuracy when looking for the best K value of K-NN (thus within the Cross Validation as before..)."
   ]
  },
  {
   "cell_type": "code",
   "execution_count": 97,
   "metadata": {
    "colab": {
     "base_uri": "https://localhost:8080/",
     "height": 384
    },
    "id": "MsxD9p1J-sbu",
    "outputId": "e769e846-47ef-45c2-c6b7-4a1840d8763b"
   },
   "outputs": [
    {
     "name": "stdout",
     "output_type": "stream",
     "text": [
      "Best training Score: 0.379004329004329\n",
      "Best training params: {'n_neighbors': 5}\n",
      "Normalized confusion matrix\n",
      "[[0.94520548 0.05479452]\n",
      " [0.76470588 0.23529412]]\n"
     ]
    },
    {
     "data": {
      "image/png": "[encoded data removed]",
      "text/plain": [
       "<Figure size 432x288 with 2 Axes>"
      ]
     },
     "metadata": {
      "needs_background": "light",
      "tags": []
     },
     "output_type": "display_data"
    }
   ],
   "source": [
    "# Looking for the best hyperparameters\n",
    "p_grid_KNN = {'n_neighbors': [1,2,3,4,5,6,7,8,9,10]}\n",
    "KNN = KNeighborsClassifier()\n",
    "grid_KNN = GridSearchCV(estimator=KNN, param_grid=p_grid_KNN, scoring=\"f1\", cv=5)\n",
    "grid_KNN.fit(X_train, y_train)\n",
    "print(\"Best training Score: {}\".format(grid_KNN.best_score_))\n",
    "print(\"Best training params: {}\".format(grid_KNN.best_params_))\n",
    "y_pred = grid_KNN.predict(X_test)\n",
    "# Compute confusion matrix\n",
    "cnf_matrix = confusion_matrix(y_test, y_pred)\n",
    "\n",
    "# Plot normalized confusion matrix\n",
    "plt.figure()\n",
    "plot_confusion_matrix(cnf_matrix, classes=class_names, normalize=True,\n",
    "                      title='Normalized confusion matrix')\n",
    "plt.show()"
   ]
  },
  {
   "cell_type": "markdown",
   "metadata": {
    "id": "cKqhyLTSM3P4"
   },
   "source": [
    "**Second**: when dealing with such a problem (the one you should find !) a possible solution would be to oversample a class (which one in your opinion ?) Please look at this web page for more information (https://imbalanced-learn.readthedocs.io/en/stable/over_sampling.html) and try at least one naive random over-sampling (look at the following code...)."
   ]
  },
  {
   "cell_type": "code",
   "execution_count": 98,
   "metadata": {
    "colab": {
     "base_uri": "https://localhost:8080/"
    },
    "id": "r1kyMwyeM3P5",
    "outputId": "5642b923-2245-4e76-d8e0-7e43f7e0af15"
   },
   "outputs": [
    {
     "name": "stdout",
     "output_type": "stream",
     "text": [
      "[(0, 339), (1, 339)]\n"
     ]
    }
   ],
   "source": [
    "from imblearn.over_sampling import RandomOverSampler\n",
    "from collections import Counter\n",
    "ros = RandomOverSampler(random_state=0)\n",
    "X_resampled, y_resampled = ros.fit_resample(X_train, y_train)\n",
    "print(sorted(Counter(y_resampled).items()))"
   ]
  },
  {
   "cell_type": "markdown",
   "metadata": {
    "collapsed": true,
    "id": "E6QK8eGEM3P8"
   },
   "source": [
    "Let's look for the best K in KNN (as before using Cross validation) but this time on the new training set. \n",
    "\n",
    "**Question**: Are the results better ? Do they change now if you modify the scoring function ? Why ?"
   ]
  },
  {
   "cell_type": "markdown",
   "metadata": {
    "id": "IenRSukQSEVW"
   },
   "source": [
    "**Answer:** \n",
    "\n",
    "Yes, the results are now better. No, they don’t change as before when modifying the scoring function. That is because when we oversampled the class with smallest occurrence (melanoma one) we corrected the unbalanced problem, so the previous problem of having more healthy cases is solved (consequently favorizing the healthy prediction). "
   ]
  },
  {
   "cell_type": "code",
   "execution_count": 99,
   "metadata": {
    "colab": {
     "base_uri": "https://localhost:8080/",
     "height": 384
    },
    "id": "Y6kM4sKHM3P-",
    "outputId": "be86d237-3424-4cdc-99ca-f2269e10a6e3"
   },
   "outputs": [
    {
     "name": "stdout",
     "output_type": "stream",
     "text": [
      "Best training Score: 0.90859477124183\n",
      "Best training params: {'n_neighbors': 1}\n",
      "Normalized confusion matrix\n",
      "[[0.81506849 0.18493151]\n",
      " [0.64705882 0.35294118]]\n"
     ]
    },
    {
     "data": {
      "image/png": "[encoded data removed]",
      "text/plain": [
       "<Figure size 432x288 with 2 Axes>"
      ]
     },
     "metadata": {
      "needs_background": "light",
      "tags": []
     },
     "output_type": "display_data"
    }
   ],
   "source": [
    "# Looking for the best hyperparameters\n",
    "p_grid_KNN = {'n_neighbors': [1,2,3,4,5,6,7,8,9,10]}\n",
    "KNN = KNeighborsClassifier()\n",
    "grid_KNN = GridSearchCV(estimator=KNN, param_grid=p_grid_KNN, scoring=\"accuracy\", cv=5)\n",
    "grid_KNN.fit(X_resampled,y_resampled)\n",
    "print(\"Best training Score: {}\".format(grid_KNN.best_score_))\n",
    "print(\"Best training params: {}\".format(grid_KNN.best_params_))\n",
    "y_pred = grid_KNN.predict(X_test)\n",
    "# Compute confusion matrix\n",
    "cnf_matrix = confusion_matrix(y_test, y_pred)\n",
    "\n",
    "# Plot normalized confusion matrix\n",
    "plt.figure()\n",
    "plot_confusion_matrix(cnf_matrix, classes=class_names, normalize=True,\n",
    "                      title='Normalized confusion matrix')\n",
    "plt.show()"
   ]
  },
  {
   "cell_type": "markdown",
   "metadata": {
    "id": "fFT0LT7JM3QB"
   },
   "source": [
    "Let's use the techniques seen today: Perceptron and linear SVM. "
   ]
  },
  {
   "cell_type": "code",
   "execution_count": 100,
   "metadata": {
    "colab": {
     "base_uri": "https://localhost:8080/"
    },
    "id": "I0g3pszrM3QE",
    "outputId": "483951a0-70db-4c0c-b035-66bd6f75cca5"
   },
   "outputs": [
    {
     "name": "stdout",
     "output_type": "stream",
     "text": [
      "Fitting Perceptron\n",
      " Average and std TRAIN CV accuracy : 0.8029166666666667 +- 0.008599903100229305\n",
      " Average and std TEST CV accuracy : 0.795 +- 0.02718251071716681\n",
      "Fitting Linear SVM\n",
      " Average and std TRAIN CV accuracy : 0.6091666666666666 +- 0.2567309172828409\n",
      " Average and std TEST CV accuracy : 0.6066666666666667 +- 0.25562559426717124\n"
     ]
    }
   ],
   "source": [
    "# Fitting Perceptron\n",
    "print(\"Fitting Perceptron\")\n",
    "Perc = Perceptron()\n",
    "Perc_cv = cross_validate(Perc,Xp, yp,cv=5,scoring='accuracy',return_train_score=True)\n",
    "print(\" Average and std TRAIN CV accuracy : {0} +- {1}\".format(Perc_cv['train_score'].mean(), Perc_cv['train_score'].std() ))\n",
    "print(\" Average and std TEST CV accuracy : {0} +- {1}\".format(Perc_cv['test_score'].mean(), Perc_cv['test_score'].std() ))\n",
    "\n",
    "\n",
    "# Fitting linear SVM \n",
    "print(\"Fitting Linear SVM\")\n",
    "Lsvm = LinearSVC() \n",
    "Lsvm_cv = cross_validate(Lsvm,Xp, yp,cv=5,scoring='accuracy',return_train_score=True)\n",
    "print(\" Average and std TRAIN CV accuracy : {0} +- {1}\".format(Lsvm_cv['train_score'].mean(), Lsvm_cv['train_score'].std() ))\n",
    "print(\" Average and std TEST CV accuracy : {0} +- {1}\".format(Lsvm_cv['test_score'].mean(), Lsvm_cv['test_score'].std() ))"
   ]
  },
  {
   "cell_type": "markdown",
   "metadata": {
    "id": "ekiuvtrE2Jds"
   },
   "source": [
    "We can easily use different scoring functions within the cross validate function of scikit-learn. Check the code."
   ]
  },
  {
   "cell_type": "code",
   "execution_count": 101,
   "metadata": {
    "colab": {
     "base_uri": "https://localhost:8080/"
    },
    "id": "8T5mXHJX1lDM",
    "outputId": "8bf21163-b849-4c3c-e4d6-2d7e09c2d221"
   },
   "outputs": [
    {
     "name": "stdout",
     "output_type": "stream",
     "text": [
      "Fitting Perceptron\n",
      "dict_keys(['fit_time', 'score_time', 'test_accuracy', 'train_accuracy', 'test_f1', 'train_f1'])\n",
      " Average and std TRAIN CV accuracy : 0.8029166666666667 +- 0.008599903100229305\n",
      " Average and std TEST CV accuracy : 0.795 +- 0.02718251071716681\n",
      " Average and std TRAIN CV f1 : 0.2485160519710646 +- 0.14586938310024572\n",
      " Average and std TEST CV f1 : 0.22448884448884449 +- 0.13254969327841692\n",
      "Fitting Linear SVM\n",
      " Average and std TRAIN CV accuracy : 0.6870833333333334 +- 0.24771665601381485\n",
      " Average and std TEST CV accuracy : 0.6866666666666668 +- 0.24752104287649296\n",
      " Average and std TRAIN CV f1 : 0.08556939382066717 +- 0.11981670913073121\n",
      " Average and std TEST CV f1 : 0.08100233100233101 +- 0.12459092980082483\n"
     ]
    }
   ],
   "source": [
    "# Fitting Perceptron\n",
    "print(\"Fitting Perceptron\")\n",
    "Perc = Perceptron()\n",
    "Perc_cv = cross_validate(Perc,Xp, yp,cv=5,scoring=('accuracy', 'f1'),return_train_score=True)\n",
    "print(Perc_cv.keys())\n",
    "print(\" Average and std TRAIN CV accuracy : {0} +- {1}\".format(Perc_cv['train_accuracy'].mean(), Perc_cv['train_accuracy'].std() ))\n",
    "print(\" Average and std TEST CV accuracy : {0} +- {1}\".format(Perc_cv['test_accuracy'].mean(), Perc_cv['test_accuracy'].std() ))\n",
    "print(\" Average and std TRAIN CV f1 : {0} +- {1}\".format(Perc_cv['train_f1'].mean(), Perc_cv['train_f1'].std() ))\n",
    "print(\" Average and std TEST CV f1 : {0} +- {1}\".format(Perc_cv['test_f1'].mean(), Perc_cv['test_f1'].std() ))\n",
    "\n",
    "\n",
    "# Fitting linear SVM \n",
    "print(\"Fitting Linear SVM\")\n",
    "Lsvm = LinearSVC() \n",
    "Lsvm_cv = cross_validate(Lsvm,Xp, yp,cv=5,scoring=('accuracy', 'f1'),return_train_score=True)\n",
    "print(\" Average and std TRAIN CV accuracy : {0} +- {1}\".format(Lsvm_cv['train_accuracy'].mean(), Lsvm_cv['train_accuracy'].std() ))\n",
    "print(\" Average and std TEST CV accuracy : {0} +- {1}\".format(Lsvm_cv['test_accuracy'].mean(), Lsvm_cv['test_accuracy'].std() ))\n",
    "print(\" Average and std TRAIN CV f1 : {0} +- {1}\".format(Lsvm_cv['train_f1'].mean(), Lsvm_cv['train_f1'].std() ))\n",
    "print(\" Average and std TEST CV f1 : {0} +- {1}\".format(Lsvm_cv['test_f1'].mean(), Lsvm_cv['test_f1'].std() ))\n"
   ]
  },
  {
   "cell_type": "markdown",
   "metadata": {
    "id": "A0DAxlPS7VKz"
   },
   "source": [
    "**Question** Please do the same on the oversampled data and compare the results with the previous ones."
   ]
  },
  {
   "cell_type": "markdown",
   "metadata": {
    "id": "bsQsdYQlT-IV"
   },
   "source": [
    "**Answer:**\n",
    "\n",
    "As we can see bellow, the results doing the oversampling for the perceptron and SVM accuracy seems to be worst, but better for f1., speccialy for SVM That is maybe because the Perceptron takes into account all points in its optimization, while SVM just the ones close to the margin. "
   ]
  },
  {
   "cell_type": "code",
   "execution_count": 102,
   "metadata": {
    "colab": {
     "base_uri": "https://localhost:8080/"
    },
    "id": "v8QIk5pU7VU9",
    "outputId": "bb2c275b-5f16-4b36-8a58-81924f2df05c"
   },
   "outputs": [
    {
     "name": "stdout",
     "output_type": "stream",
     "text": [
      "Fitting Perceptron\n",
      "dict_keys(['fit_time', 'score_time', 'test_accuracy', 'train_accuracy', 'test_f1', 'train_f1'])\n",
      " Average and std TRAIN CV accuracy : 0.6113402061855671 +- 0.021278110763453918\n",
      " Average and std TEST CV accuracy : 0.5886597938144329 +- 0.03298969072164949\n",
      " Average and std TRAIN CV f1 : 0.5899235062211237 +- 0.10548326958283079\n",
      " Average and std TEST CV f1 : 0.5805880681266238 +- 0.06583167040453082\n",
      "Fitting Linear SVM\n",
      " Average and std TRAIN CV accuracy : 0.5298969072164949 +- 0.039588501386432814\n",
      " Average and std TEST CV accuracy : 0.5268041237113402 +- 0.03679704803623659\n",
      " Average and std TRAIN CV f1 : 0.543165869481747 +- 0.2718204645389795\n",
      " Average and std TEST CV f1 : 0.5394277765245507 +- 0.2698094494623359\n"
     ]
    }
   ],
   "source": [
    "X_resampled_All, y_resampled_All = ros.fit_resample(Xp, yp)\n",
    "\n",
    "# Fitting Perceptron\n",
    "print(\"Fitting Perceptron\")\n",
    "Perc = Perceptron()\n",
    "Perc_cv = cross_validate(Perc,X_resampled_All, y_resampled_All,cv=5,scoring=('accuracy', 'f1'),return_train_score=True)\n",
    "print(Perc_cv.keys())\n",
    "print(\" Average and std TRAIN CV accuracy : {0} +- {1}\".format(Perc_cv['train_accuracy'].mean(), Perc_cv['train_accuracy'].std() ))\n",
    "print(\" Average and std TEST CV accuracy : {0} +- {1}\".format(Perc_cv['test_accuracy'].mean(), Perc_cv['test_accuracy'].std() ))\n",
    "print(\" Average and std TRAIN CV f1 : {0} +- {1}\".format(Perc_cv['train_f1'].mean(), Perc_cv['train_f1'].std() ))\n",
    "print(\" Average and std TEST CV f1 : {0} +- {1}\".format(Perc_cv['test_f1'].mean(), Perc_cv['test_f1'].std() ))\n",
    "\n",
    "\n",
    "# Fitting linear SVM \n",
    "print(\"Fitting Linear SVM\")\n",
    "Lsvm = LinearSVC() \n",
    "Lsvm_cv = cross_validate(Lsvm,X_resampled_All, y_resampled_All,cv=5,scoring=('accuracy', 'f1'),return_train_score=True)\n",
    "print(\" Average and std TRAIN CV accuracy : {0} +- {1}\".format(Lsvm_cv['train_accuracy'].mean(), Lsvm_cv['train_accuracy'].std() ))\n",
    "print(\" Average and std TEST CV accuracy : {0} +- {1}\".format(Lsvm_cv['test_accuracy'].mean(), Lsvm_cv['test_accuracy'].std() ))\n",
    "print(\" Average and std TRAIN CV f1 : {0} +- {1}\".format(Lsvm_cv['train_f1'].mean(), Lsvm_cv['train_f1'].std() ))\n",
    "print(\" Average and std TEST CV f1 : {0} +- {1}\".format(Lsvm_cv['test_f1'].mean(), Lsvm_cv['test_f1'].std() ))\n"
   ]
  },
  {
   "cell_type": "markdown",
   "metadata": {
    "id": "1tomDbS373Dv"
   },
   "source": [
    "We can also ask to save the estimated models at each split (i.e. fold) with the option `return_estimator=True`. Using the perceptron, we will look for the best model using the oversampled training data and check the confusion matrix on the test data. \n",
    "\n",
    "**Question** Do it the same with the linear SVM."
   ]
  },
  {
   "cell_type": "code",
   "execution_count": 103,
   "metadata": {
    "colab": {
     "base_uri": "https://localhost:8080/",
     "height": 889
    },
    "id": "YWv94yNA8Tnd",
    "outputId": "1b9108ba-37d9-4e5c-9823-fed484d5026d"
   },
   "outputs": [
    {
     "name": "stdout",
     "output_type": "stream",
     "text": [
      "Fitting Perceptron\n",
      "dict_keys(['fit_time', 'score_time', 'estimator', 'test_accuracy', 'train_accuracy', 'test_f1', 'train_f1'])\n",
      " Average and std TRAIN CV accuracy : 0.7020679157067814 +- 0.03180146222160181\n",
      " Average and std TEST CV accuracy : 0.6844335511982571 +- 0.04710351504882374\n",
      " Average and std TRAIN CV f1 : 0.6902859690408188 +- 0.03476685168554237\n",
      " Average and std TEST CV f1 : 0.676124214618549 +- 0.046143526084557566\n",
      "Normalized confusion matrix\n",
      "[[0.73972603 0.26027397]\n",
      " [0.47058824 0.52941176]]\n"
     ]
    },
    {
     "data": {
      "image/png": "[encoded data removed]",
      "text/plain": [
       "<Figure size 432x288 with 2 Axes>"
      ]
     },
     "metadata": {
      "needs_background": "light",
      "tags": []
     },
     "output_type": "display_data"
    },
    {
     "name": "stdout",
     "output_type": "stream",
     "text": [
      "Fitting linear SVM\n",
      "dict_keys(['fit_time', 'score_time', 'estimator', 'test_accuracy', 'train_accuracy', 'test_f1', 'train_f1'])\n",
      " Average and std TRAIN CV accuracy : 0.7769246974237698 +- 0.008451849596194461\n",
      " Average and std TEST CV accuracy : 0.7537472766884532 +- 0.03582737831098348\n",
      " Average and std TRAIN CV f1 : 0.7737807734320015 +- 0.009550800643997385\n",
      " Average and std TEST CV f1 : 0.7497074240126583 +- 0.03728981881825643\n",
      "Normalized confusion matrix\n",
      "[[0.80136986 0.19863014]\n",
      " [0.52941176 0.47058824]]\n"
     ]
    },
    {
     "data": {
      "image/png": "[encoded data removed]",
      "text/plain": [
       "<Figure size 432x288 with 2 Axes>"
      ]
     },
     "metadata": {
      "needs_background": "light",
      "tags": []
     },
     "output_type": "display_data"
    }
   ],
   "source": [
    "# Fitting Perceptron\n",
    "print(\"Fitting Perceptron\")\n",
    "Perc = Perceptron()\n",
    "Perc_cv = cross_validate(Perc,X_resampled, y_resampled,cv=5,scoring=('accuracy', 'f1'),return_train_score=True,return_estimator=True)\n",
    "print(Perc_cv.keys())\n",
    "print(\" Average and std TRAIN CV accuracy : {0} +- {1}\".format(Perc_cv['train_accuracy'].mean(), Perc_cv['train_accuracy'].std() ))\n",
    "print(\" Average and std TEST CV accuracy : {0} +- {1}\".format(Perc_cv['test_accuracy'].mean(), Perc_cv['test_accuracy'].std() ))\n",
    "print(\" Average and std TRAIN CV f1 : {0} +- {1}\".format(Perc_cv['train_f1'].mean(), Perc_cv['train_f1'].std() ))\n",
    "print(\" Average and std TEST CV f1 : {0} +- {1}\".format(Perc_cv['test_f1'].mean(), Perc_cv['test_f1'].std() ))\n",
    "\n",
    "# Look for the best estimator (the one with the greatest test accuracy)\n",
    "index_best = np.argmax(Perc_cv['test_accuracy'])\n",
    "estimator_best=Perc_cv['estimator'][index_best]\n",
    "y_pred = estimator_best.predict(X_test)\n",
    "# Compute confusion matrix\n",
    "cnf_matrix = confusion_matrix(y_test, y_pred)\n",
    "\n",
    "# Plot normalized confusion matrix\n",
    "plt.figure()\n",
    "plot_confusion_matrix(cnf_matrix, classes=class_names, normalize=True,\n",
    "                      title='Normalized confusion matrix')\n",
    "plt.show()\n",
    "\n",
    "\n",
    "# Fitting linear SVM \n",
    "print(\"Fitting linear SVM\")\n",
    "Lsvm = LinearSVC() \n",
    "Lsvm_cv = cross_validate(Lsvm,X_resampled, y_resampled,cv=5,scoring=('accuracy', 'f1'),return_train_score=True,return_estimator=True)\n",
    "print(Lsvm_cv .keys())\n",
    "print(\" Average and std TRAIN CV accuracy : {0} +- {1}\".format(Lsvm_cv ['train_accuracy'].mean(), Lsvm_cv['train_accuracy'].std() ))\n",
    "print(\" Average and std TEST CV accuracy : {0} +- {1}\".format(Lsvm_cv ['test_accuracy'].mean(), Lsvm_cv['test_accuracy'].std() ))\n",
    "print(\" Average and std TRAIN CV f1 : {0} +- {1}\".format(Lsvm_cv ['train_f1'].mean(), Lsvm_cv['train_f1'].std() ))\n",
    "print(\" Average and std TEST CV f1 : {0} +- {1}\".format(Lsvm_cv ['test_f1'].mean(), Lsvm_cv ['test_f1'].std() ))\n",
    "\n",
    "# Look for the best estimator (the one with the greatest test accuracy)\n",
    "index_best = np.argmax(Lsvm_cv['test_accuracy'])\n",
    "estimator_best=Lsvm_cv['estimator'][index_best]\n",
    "y_pred = estimator_best.predict(X_test)\n",
    "# Compute confusion matrix\n",
    "cnf_matrix = confusion_matrix(y_test, y_pred)\n",
    "\n",
    "# Plot normalized confusion matrix\n",
    "plt.figure()\n",
    "plot_confusion_matrix(cnf_matrix, classes=class_names, normalize=True,\n",
    "                      title='Normalized confusion matrix')\n",
    "plt.show()"
   ]
  },
  {
   "cell_type": "markdown",
   "metadata": {
    "id": "bkGZOucl-t_u"
   },
   "source": [
    "Suppose that there are overlapping classes, we need to set the hyper-parameter C for the SVM model. \n",
    "\n",
    "**Question** Use Cross-Validation on the oversampled data to find the best C value. Plot the confusion matrix using the best estimator (as before)."
   ]
  },
  {
   "cell_type": "code",
   "execution_count": 104,
   "metadata": {
    "colab": {
     "base_uri": "https://localhost:8080/",
     "height": 384
    },
    "id": "Vj6dA32h9NF_",
    "outputId": "f9039094-48f5-414b-d651-71501731456f"
   },
   "outputs": [
    {
     "name": "stdout",
     "output_type": "stream",
     "text": [
      "Best training Score: 0.758169934640523\n",
      "Best training params: {'C': 8}\n",
      "Normalized confusion matrix\n",
      "[[0.80136986 0.19863014]\n",
      " [0.55882353 0.44117647]]\n"
     ]
    },
    {
     "data": {
      "image/png": "[encoded data removed]",
      "text/plain": [
       "<Figure size 432x288 with 2 Axes>"
      ]
     },
     "metadata": {
      "needs_background": "light",
      "tags": []
     },
     "output_type": "display_data"
    }
   ],
   "source": [
    "# Looking for the best hyperparameter C \n",
    "p_grid_lsvm = {'C': [1e-3,1e-2,1e-1,1,2,3,4,5,6,7,8,9,1e1]}\n",
    "Lsvm = LinearSVC()\n",
    "grid_lsvm = GridSearchCV(Lsvm, p_grid_lsvm, cv=5, scoring=\"accuracy\")\n",
    "grid_lsvm.fit(X_resampled, y_resampled)\n",
    "print(\"Best training Score: {}\".format(grid_lsvm.best_score_))\n",
    "print(\"Best training params: {}\".format(grid_lsvm.best_params_))\n",
    "y_pred = grid_lsvm.predict(X_test)\n",
    "# Compute confusion matrix\n",
    "cnf_matrix = confusion_matrix(y_test, y_pred)\n",
    "\n",
    "# Plot normalized confusion matrix\n",
    "plt.figure()\n",
    "plot_confusion_matrix(cnf_matrix, classes=class_names, normalize=True,\n",
    "                      title='Normalized confusion matrix')\n",
    "plt.show()"
   ]
  },
  {
   "cell_type": "markdown",
   "metadata": {
    "id": "NpIH_H8cM3Qa"
   },
   "source": [
    "Here it is the code for non-linear SVM using radial basis function. We need to tune another hyper-parameter $gamma$. We look for the best $C$ and $gamma$ at the same time.\n",
    "\n",
    "**Question** Use Cross-Validation on the oversampled data to find the best C and $gamma$ value. Plot the confusion matrix using the best estimator (as before)."
   ]
  },
  {
   "cell_type": "code",
   "execution_count": 105,
   "metadata": {
    "colab": {
     "base_uri": "https://localhost:8080/",
     "height": 401
    },
    "id": "CFecS4EJM3Qb",
    "outputId": "1b6d2622-8c23-4d24-cb6a-ef1b3f87b20d"
   },
   "outputs": [
    {
     "name": "stdout",
     "output_type": "stream",
     "text": [
      "Fitting Non-linear SVM to the training set\n",
      "Best training Score: 0.9631481481481481\n",
      "Best training params: {'C': 2, 'gamma': 0.1}\n",
      "Normalized confusion matrix\n",
      "[[0.96575342 0.03424658]\n",
      " [0.85294118 0.14705882]]\n"
     ]
    },
    {
     "data": {
      "image/png": "[encoded data removed]",
      "text/plain": [
       "<Figure size 432x288 with 2 Axes>"
      ]
     },
     "metadata": {
      "needs_background": "light",
      "tags": []
     },
     "output_type": "display_data"
    }
   ],
   "source": [
    "# Fitting Non-linear SVM\n",
    "print(\"Fitting Non-linear SVM to the training set\")\n",
    "t0 = time()\n",
    "p_grid_nlsvm = {'C': [1e-3,1e-2,1e-1,1,2,3,4,5,6,7,8,9,1e1],\n",
    "              'gamma': [0.0001, 0.0005, 0.001, 0.005, 0.01, 0.1], }\n",
    "NLsvm = SVC(kernel='rbf')\n",
    "grid_nlsvm = GridSearchCV(NLsvm, p_grid_nlsvm, cv=5, scoring=\"accuracy\")\n",
    "grid_nlsvm.fit(X_resampled, y_resampled)\n",
    "print(\"Best training Score: {}\".format(grid_nlsvm.best_score_))\n",
    "print(\"Best training params: {}\".format(grid_nlsvm.best_params_))\n",
    "y_pred = grid_nlsvm.predict(X_test)\n",
    "# Compute confusion matrix\n",
    "cnf_matrix = confusion_matrix(y_test, y_pred)\n",
    "\n",
    "# Plot normalized confusion matrix\n",
    "plt.figure()\n",
    "plot_confusion_matrix(cnf_matrix, classes=class_names, normalize=True,\n",
    "                      title='Normalized confusion matrix')\n",
    "plt.show()"
   ]
  },
  {
   "cell_type": "code",
   "execution_count": 110,
   "metadata": {
    "colab": {
     "base_uri": "https://localhost:8080/",
     "height": 401
    },
    "id": "PBmeM7vPa9eS",
    "outputId": "466a4924-fe47-4d44-d973-cb56797e5fd9"
   },
   "outputs": [
    {
     "name": "stdout",
     "output_type": "stream",
     "text": [
      "Fitting Non-linear SVM to the training set\n",
      "Best Score: 0.5557289547612128\n",
      "Best params: {'C': 7, 'gamma': 0.005}\n",
      "Normalized confusion matrix\n",
      "[[0.82191781 0.17808219]\n",
      " [0.64705882 0.35294118]]\n"
     ]
    },
    {
     "data": {
      "image/png": "[encoded data removed]",
      "text/plain": [
       "<Figure size 432x288 with 2 Axes>"
      ]
     },
     "metadata": {
      "needs_background": "light",
      "tags": []
     },
     "output_type": "display_data"
    }
   ],
   "source": [
    "# Fitting Non-linear SVM\n",
    "print(\"Fitting Non-linear SVM to the training set\")\n",
    "t0 = time()\n",
    "p_grid_nlsvm = {'C': [1e-3,1e-2,1e-1,1,2,3,4,5,6,7,8,9,1e1],\n",
    "              'gamma': [0.0001, 0.0005, 0.001, 0.005, 0.01, 0.1], }\n",
    "NLsvm = SVC(kernel='rbf', class_weight='balanced')\n",
    "grid_nlsvm = GridSearchCV(NLsvm, p_grid_nlsvm, cv=5, scoring=\"f1\")\n",
    "grid_nlsvm.fit(X_train,y_train) \n",
    "print(\"Best Score: {}\".format(grid_nlsvm.best_score_))\n",
    "print(\"Best params: {}\".format(grid_nlsvm.best_params_))\n",
    "y_pred = grid_nlsvm.predict(X_test)\n",
    "# Compute confusion matrix\n",
    "cnf_matrix = confusion_matrix(y_test, y_pred)\n",
    "\n",
    "# Plot normalized confusion matrix\n",
    "plt.figure()\n",
    "plot_confusion_matrix(cnf_matrix, classes=class_names, normalize=True,\n",
    "                      title='Normalized confusion matrix')\n",
    "plt.show()"
   ]
  },
  {
   "cell_type": "markdown",
   "metadata": {
    "id": "f9Cr8596_27_"
   },
   "source": [
    "**Question** Use the non-linear SVM with the two strategies seen before (different scoring function and/or oversampled data). Do the results change ? Why in your opinion ?"
   ]
  },
  {
   "cell_type": "markdown",
   "metadata": {
    "id": "bra3JFRdDWFj"
   },
   "source": [
    "**Answer:**\n",
    "\n",
    "As can be seen in the confusion matrixes above the oversampled case doesn’t give us good results. Comparing the matrix to the best training score, it seems that we are in a case of overfitting. In that case, changing the metric don’t seem to change the results. Using our original dataset seems to give a little bit better results, and they change according to the metric, as before."
   ]
  },
  {
   "cell_type": "markdown",
   "metadata": {
    "id": "nozf6wWBP-bi"
   },
   "source": [
    "**Question** Try to draw a conclusion from the different experiments. Which is the best method ? Which scoring function should you use ? Is it worth it to oversample one of the two classes ?"
   ]
  },
  {
   "cell_type": "markdown",
   "metadata": {
    "id": "bWKBzC_JGHxE"
   },
   "source": [
    "**Answer:**\n",
    "\n",
    "Given what is said before, the best results obtained can be considered the ones of SVM with overlapping classes using oversampled and getting the parameter C."
   ]
  },
  {
   "cell_type": "markdown",
   "metadata": {
    "id": "Svebl02nFGmt"
   },
   "source": [
    "**OPTIONAL** Another interesting question is: what about the number of features ? Can we reduce the dimensionality ? You could use one of the techniques seen during the previous lectures (i.e. PCA) ..."
   ]
  },
  {
   "cell_type": "code",
   "execution_count": null,
   "metadata": {
    "id": "cjiAg2siFI4H"
   },
   "outputs": [],
   "source": [
    "# Test PCA with a linear SVM\n",
    "XXXXXXXX"
   ]
  },
  {
   "cell_type": "code",
   "execution_count": null,
   "metadata": {
    "id": "VfMHS1iVu2Rf"
   },
   "outputs": [],
   "source": [
    "# Fitting Linear SVM \n",
    "XXXXXXXXXX"
   ]
  },
  {
   "cell_type": "markdown",
   "metadata": {
    "id": "--RStEOSM3Qw"
   },
   "source": [
    "**OPTIONAL** ... or test the importance of the single features.\n",
    "The more naive technique would be to test each feature independently in a greedy fashion called sequential forward feature selection. Starting from an empty set and a classification model, you will first add the feature that maximizes a certain criterion (i.e. f1 score). Then, you will iterate this process until a chosen stopping criterion by adding at each iteration only the best feature. Each feature can be added of course only once. You could also use the opposite process by removing at each iteraton the least important feature starting from the entire set of features (i.e. sequential backward feature selection). Implement at least one of these ideas. "
   ]
  },
  {
   "cell_type": "code",
   "execution_count": null,
   "metadata": {
    "id": "lD8T6qaWM3Qx"
   },
   "outputs": [],
   "source": [
    "# Implement forward feature selection and/or backward feature selection\n",
    "# with a linear SVM\n",
    "\n",
    "XXXXXXXXXX"
   ]
  }
 ],
 "metadata": {
  "colab": {
   "collapsed_sections": [],
   "name": "TP3_SVM_TOGASHI_DE_MIRANDA_Julia.ipynb",
   "provenance": []
  },
  "kernelspec": {
   "display_name": "Python 3",
   "language": "python",
   "name": "python3"
  },
  "language_info": {
   "codemirror_mode": {
    "name": "ipython",
    "version": 3
   },
   "file_extension": ".py",
   "mimetype": "text/x-python",
   "name": "python",
   "nbconvert_exporter": "python",
   "pygments_lexer": "ipython3",
   "version": "3.7.10"
  }
 },
 "nbformat": 4,
 "nbformat_minor": 1
}
